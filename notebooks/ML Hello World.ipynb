{
  "cells": [
    {
      "cell_type": "markdown",
      "metadata": {
        "id": "xQ6rJEE5yLNi"
      },
      "source": [
        "Machine learning is simply a computer learning from data instead of following a recipe. It's meant to mimic how people (and perhaps other animals) learn while still being grounded in mathematics.\n",
        "\n",
        "This post is meant to get you started with a basic machine learning model.\n",
        "\n",
        "A chatbot.\n",
        "\n",
        "Now, we're not re-creating Alexa, Siri, Cortana, or Google Assistant but we are going to create a brand new machine learning program from scratch.\n",
        "\n",
        "This tutorial is meant to be easy assuming you know a bit of Python Programming.\n",
        "\n",
        "Watch the [entire series](/projects/hello-world-machine-learning) that corresponds to this post."
      ]
    },
    {
      "cell_type": "markdown",
      "metadata": {
        "id": "i6mGOrv-yLNl"
      },
      "source": [
        "### Step 1: What's our data?\n",
        "\n",
        "Machine learning needs data to actually, well, learn. Machines don't yet learn like you and I do but they do learn by finding patterns in things that may seem non-obvious to you and I. We'll see a lot of that in this entire post.\n",
        "\n",
        "Before we define our data, let's talk about the goal of this ML (machine learning) project:\n",
        ">  To answer somewhat \"random\" questions with pre-defined responses.\n",
        "\n",
        "\n",
        "Here's what we'll try and solve:\n",
        "\n",
        "__Scenario 1__\n",
        "\n",
        "Bill: `Hi there, what time do you open tomorrow for lunch?`\n",
        "\n",
        "Bot: `Our hours are 9am-10pm everyday.`\n",
        "\n",
        "__Scenario 2__\n",
        "\n",
        "Karen: `Can I speak to your manager?`\n",
        "\n",
        "Bot: `You can contact our customer support at 555-555-555.5`\n",
        "\n",
        "\n",
        "__Scenario 3__\n",
        "\n",
        "Wade: `What type of products do you have?`\n",
        "\n",
        "Bot: `We carry various food items including tacos, nachos, burritos, and salads.`\n",
        "\n",
        "Let's put this into a python format:"
      ]
    },
    {
      "cell_type": "code",
      "execution_count": null,
      "metadata": {
        "id": "1TtW2zSQyLNm"
      },
      "outputs": [],
      "source": [
        "conversations = [\n",
        "    {\n",
        "        \"customer\": \"Hi there, what time do you open tomorrow for lunch?\",\n",
        "        \"response\": \"Our hours are 9am-10pm everday.\"\n",
        "    },\n",
        "     {\n",
        "        \"customer\": \"Can I speak to your manager?\",\n",
        "        \"response\": \"You can contact our customer support at 555-555-5555.\"\n",
        "    },\n",
        "     {\n",
        "        \"customer\": \"What type of products do you have?\",\n",
        "        \"response\": \"We carry various food items including tacos, nachos, burritos, and salads.\"\n",
        "    }\n",
        "\n",
        "]"
      ]
    },
    {
      "cell_type": "markdown",
      "metadata": {
        "id": "q3iAw4CwyLNn"
      },
      "source": [
        "Without machine learning our bot would look like this (uncomment next cell to run):"
      ]
    },
    {
      "cell_type": "code",
      "execution_count": null,
      "metadata": {
        "id": "Ghcu2nYUyLNn"
      },
      "outputs": [],
      "source": [
        "# while True:\n",
        "#     my_input = input(\"What is your question?\\n\")\n",
        "#     response = None\n",
        "#     for convo in conversations:\n",
        "#         if convo['customer'] == my_input:\n",
        "#             response = convo['response']\n",
        "#     if response != None:\n",
        "#         print(response)\n",
        "#         break\n",
        "#     print(\"I don't know\")\n",
        "#     continue"
      ]
    },
    {
      "cell_type": "markdown",
      "metadata": {
        "id": "fB2p0r6vyLNo"
      },
      "source": [
        "Right away, you should see the huge flaws in this recipe; if a customer doesn't ask a question in a specific pre-defined way, the bot fails and ultimately really sucks.\n",
        "\n",
        "A few examples:\n",
        "    - What if a customer says, _when do you open?_ What do you already know the response to be?\n",
        "    - What if a customer says, _Do you sell burgers?_\n",
        "    - What if a customer says, _How do I reach you on the phone?_\n",
        "   \n",
        "I'm sure you could come up with many many more examples of where this really falls apart.\n",
        "\n",
        "So let's clean up our conversations data a bit more by adding `tags` that describe the initial question."
      ]
    },
    {
      "cell_type": "code",
      "execution_count": null,
      "metadata": {
        "id": "Mr9THDAwyLNo"
      },
      "outputs": [],
      "source": [
        "convos_one = [\n",
        "    {\n",
        "        \"customer\": \"Hi there, what time do you open tomorrow for lunch?\",\n",
        "        \"tags\": [\"opening\", \"closing\", \"hours\"],\n",
        "    },\n",
        "     {\n",
        "        \"customer\": \"Can I speak to your manager?\",\n",
        "        \"tags\": [\"customer_support\"],\n",
        "    },\n",
        "    {\n",
        "        \"customer\": \"The food was amazing thank you!\",\n",
        "        \"tags\": [\"customer_support\", \"feedback\"],\n",
        "    },\n",
        "     {\n",
        "      \"customer\": \"What type of products do you have?\",\n",
        "       \"tags\": [\"products\", \"menu\", \"inventory\", \"food\"],\n",
        "    }\n",
        "\n",
        "]"
      ]
    },
    {
      "cell_type": "code",
      "execution_count": null,
      "metadata": {
        "id": "6jgRTltuyLNp"
      },
      "outputs": [],
      "source": [
        "convos_two = [\n",
        "    {\n",
        "        \"customer\": \"How late is your kitchen open?\",\n",
        "        \"tags\": [\"opening\", \"hours\", \"closing\"],\n",
        "    },\n",
        "     {\n",
        "        \"customer\": \"My order was prepared incorrectly, how can I get this fixed?\",\n",
        "        \"tags\": [\"customer_support\"],\n",
        "    },\n",
        "    {\n",
        "        \"customer\": \"What kind of meats do you have?\",\n",
        "        \"tags\": [\"menu\", \"products\", \"inventory\", \"food\"],\n",
        "    }\n",
        "]"
      ]
    },
    {
      "cell_type": "code",
      "execution_count": null,
      "metadata": {
        "id": "8MOGAwpFyLNp"
      },
      "outputs": [],
      "source": [
        "convos_three = [\n",
        "    {\n",
        "        \"customer\": \"When does your dining room open?\",\n",
        "        \"tags\": ['opening', 'hours'],\n",
        "    },\n",
        "     {\n",
        "        \"customer\": \"When do you open for dinner?\",\n",
        "        \"tags\": ['opening', 'hours', \"closing\"],\n",
        "    },\n",
        "    {\n",
        "        \"customer\": \"How do I contact you?\",\n",
        "        \"tags\": [\"contact\", \"customer_support\"]\n",
        "    }\n",
        "]"
      ]
    },
    {
      "cell_type": "markdown",
      "metadata": {
        "id": "cJePzt5cyLNq"
      },
      "source": [
        "Do you see a trend happening here? It's really easy to come up with all kinds of questions for a restaurant bot. It's also easy to see how challenging this would be to try and hard-code conditions to handle all the kinds of queries/questions customers could have.\n",
        "\n",
        "I'm sure you've heard you need a LOT of data for machine learning. I'll just add one thing to that, you need a lot of data to have *awe-inspiring* machine learning projects. A simple bot for a mom-and-pop store down the street doesn't need *awe-inspiring* just yet. They need simple, approachable, easy to explain. That's exactly what this is. It's not a black box of *millions* of lines of data points. It's like 20 questions with made up on the spot tags.\n",
        "\n",
        "In so many ways, machine learning today (in the 2020s) is like the internet of the 1990s. People have heard about it and \"sort of get it\" and feel like it's just this magical gimmick that only super nerds know how to do. Ha. Super nerds.\n",
        "\n",
        "Now that we have our starting data, let's prepare for machine learning.\n",
        "\n",
        "First, let's combine all conversations:"
      ]
    },
    {
      "cell_type": "code",
      "execution_count": null,
      "metadata": {
        "id": "JYpoIZ80yLNq",
        "outputId": "390801a3-d5b6-458c-b0fb-34f23c0afed9"
      },
      "outputs": [
        {
          "data": {
            "text/plain": [
              "[{'customer': 'Hi there, what time do you open tomorrow for lunch?',\n",
              "  'tags': ['opening', 'closing', 'hours']},\n",
              " {'customer': 'Can I speak to your manager?', 'tags': ['customer_support']},\n",
              " {'customer': 'The food was amazing thank you!',\n",
              "  'tags': ['customer_support', 'feedback']},\n",
              " {'customer': 'What type of products do you have?',\n",
              "  'tags': ['products', 'menu', 'inventory', 'food']},\n",
              " {'customer': 'How late is your kitchen open?',\n",
              "  'tags': ['opening', 'hours', 'closing']},\n",
              " {'customer': 'My order was prepared incorrectly, how can I get this fixed?',\n",
              "  'tags': ['customer_support']},\n",
              " {'customer': 'What kind of meats do you have?',\n",
              "  'tags': ['menu', 'products', 'inventory', 'food']},\n",
              " {'customer': 'When does your dining room open?',\n",
              "  'tags': ['opening', 'hours']},\n",
              " {'customer': 'When do you open for dinner?',\n",
              "  'tags': ['opening', 'hours', 'closing']},\n",
              " {'customer': 'How do I contact you?',\n",
              "  'tags': ['contact', 'customer_support']}]"
            ]
          },
          "execution_count": 6,
          "metadata": {},
          "output_type": "execute_result"
        }
      ],
      "source": [
        "dataset = convos_one + convos_two + convos_three\n",
        "dataset"
      ]
    },
    {
      "cell_type": "markdown",
      "metadata": {
        "id": "G_QAhdKzyLNq"
      },
      "source": [
        "Our conversations have the keys `customer` and `tags`. These are arbitrary names for this project and you change change them at-will. Just remember that `customer` equals `input` and `tags` equals `output`. This makes sense because in the future, we want a random customer input such as `What's the menu specials today` and a predicted tags output like `menu` or something similar.\n",
        "\n",
        "\n",
        "Machine learning has all kinds of terms and acronyms that often make it a bit confusing. In general, just remember that you have some `inputs` and some target `outputs`. Here's what I mean by that:\n",
        "\n",
        "- `customer`: These values are really the `input` values for our ML project. Input values are sometimes called `source`, `feature`, `training`, `X`, `X_train`/`X_test`/`X_valid`, and a few others.\n",
        "- `tags`: These values are really the `output` values for our ML project. Output values are sometimes called `target`, `labels`, `y`, `y_train`/`y_test`/`y_valid`, `classes`/`class`, and a few others.\n",
        "\n",
        "> We're using a machine learning technique known as `supervised learning` which means we provide both the `inputs` and `outputs` to the model. Both data points are known data that we came up with. As you know, the `tags` (or `labels`/`outputs`) have been decided by a human (ie you and me) but can, eventually, be decided by a ML model itself and then verified by a human. Doing so would make the model better and better. There are many other techniques but `supervised learning` is by far the most approachable for beginners.\n",
        "\n",
        "\n",
        "### Prepare for ML\n",
        "\n",
        "Now that we have our data, it's time to put it into a format that works well for computers. As you may know, computers are great at numbers and not so great at text. In this case, we have to convert our text into numbers.\n",
        "\n",
        "\n",
        "This is made simple by using the [scikit-learn](https://scikit-learn.org/stable/index.html) library. So let's install it below by uncommenting the cell."
      ]
    },
    {
      "cell_type": "code",
      "execution_count": null,
      "metadata": {
        "id": "2Y5bfk_wyLNq"
      },
      "outputs": [],
      "source": [
        "# !pip install scikit-learn"
      ]
    },
    {
      "cell_type": "markdown",
      "metadata": {
        "id": "3QCszZI5yLNr"
      },
      "source": [
        "First up, let's turn our `customer` and `tag` data into 2 separate lists where the index of each item corresponds to the index of the other.\n",
        "\n",
        "```\n",
        "X = [customer_convo_1, customer_convo_2, ...]\n",
        "y = [convo_1_tags, convo_2_tags, ...]\n",
        "```\n",
        "\n",
        "This is very standard practice so that `X[0]` is the `input` that corresponds to the `y[0]` `output`, `X[1]` is the `input` that corresponds to the `y[1]` `output` and so on."
      ]
    },
    {
      "cell_type": "code",
      "execution_count": null,
      "metadata": {
        "id": "FEoDri8RyLNr",
        "outputId": "9873ec53-a11d-48aa-9f0f-76d8cb27bb92"
      },
      "outputs": [
        {
          "name": "stdout",
          "output_type": "stream",
          "text": [
            "['Hi there, what time do you open tomorrow for lunch?', 'Can I speak to your manager?', 'The food was amazing thank you!', 'What type of products do you have?', 'How late is your kitchen open?', 'My order was prepared incorrectly, how can I get this fixed?', 'What kind of meats do you have?', 'When does your dining room open?', 'When do you open for dinner?', 'How do I contact you?']\n"
          ]
        }
      ],
      "source": [
        "inputs = [x['customer'] for x in dataset]\n",
        "print(inputs)"
      ]
    },
    {
      "cell_type": "code",
      "execution_count": null,
      "metadata": {
        "id": "tXT3XD1FyLNr",
        "outputId": "24861324-3ca0-411c-d5ae-e6f912b04ab5"
      },
      "outputs": [
        {
          "name": "stdout",
          "output_type": "stream",
          "text": [
            "[['opening', 'closing', 'hours'], ['customer_support'], ['customer_support', 'feedback'], ['products', 'menu', 'inventory', 'food'], ['opening', 'hours', 'closing'], ['customer_support'], ['menu', 'products', 'inventory', 'food'], ['opening', 'hours'], ['opening', 'hours', 'closing'], ['contact', 'customer_support']]\n"
          ]
        }
      ],
      "source": [
        "outputs = [x['tags'] for x in dataset]\n",
        "print(outputs)"
      ]
    },
    {
      "cell_type": "code",
      "execution_count": null,
      "metadata": {
        "id": "bUrDLj14yLNr"
      },
      "outputs": [],
      "source": [
        "assert(len(inputs) == len(outputs))"
      ]
    },
    {
      "cell_type": "markdown",
      "metadata": {
        "id": "_pVVH1oZyLNr"
      },
      "source": [
        "> If you have an `AssertionError` above, that means your `inputs` and `outputs` are not balanced. Check your data source(s) to ensure every `input` has a corresponding `output` value.\n",
        "\n",
        "Let's verify the positions of this data to show how little we actually changed the data:"
      ]
    },
    {
      "cell_type": "code",
      "execution_count": null,
      "metadata": {
        "id": "Bqgo5ejRyLNr",
        "outputId": "53eec2ee-6f94-4d6c-837f-8cc7e350025a"
      },
      "outputs": [
        {
          "name": "stdout",
          "output_type": "stream",
          "text": [
            "How late is your kitchen open? ['opening', 'hours', 'closing']\n",
            "{'customer': 'How late is your kitchen open?', 'tags': ['opening', 'hours', 'closing']}\n"
          ]
        }
      ],
      "source": [
        "idx = 4\n",
        "print(inputs[idx], outputs[idx])\n",
        "print(dataset[idx])"
      ]
    },
    {
      "cell_type": "markdown",
      "metadata": {
        "id": "NaEDvyTVyLNr"
      },
      "source": [
        "#### The Prediction Function\n",
        "\n",
        "The goal of machine learning is to produce a function that takes `inputs` and produces `outputs` (predictions). Below is, at a conceptual level, a representation of that:"
      ]
    },
    {
      "cell_type": "code",
      "execution_count": null,
      "metadata": {
        "id": "g7R3kkySyLNr"
      },
      "outputs": [],
      "source": [
        "def my_pred_function(inputs):\n",
        "    # pred\n",
        "    outputs = inputs * 0.39013 # this decimal represents what our model will essentially do.\n",
        "    return outputs"
      ]
    },
    {
      "cell_type": "markdown",
      "metadata": {
        "id": "3FJtM4jcyLNs"
      },
      "source": [
        "Now we need to turn each `inputs` list and `outputs` list into matrices so our machine learning can do machine learning.\n",
        "\n",
        "`scikit-learn` has a simple way to do this. First, let's focus on the `inputs` (aka `customer` conversations) as they are the most simple."
      ]
    },
    {
      "cell_type": "code",
      "execution_count": null,
      "metadata": {
        "id": "ft60cl9JyLNs"
      },
      "outputs": [],
      "source": [
        "from sklearn.feature_extraction.text import CountVectorizer\n",
        "\n",
        "vectorizer = CountVectorizer()\n",
        "\n",
        "X = vectorizer.fit_transform(inputs)"
      ]
    },
    {
      "cell_type": "markdown",
      "metadata": {
        "id": "SXxR9CFDyLNs"
      },
      "source": [
        "\n",
        "> Technical note: `scikit-learn` converted our data into a collection of 1 dimension matrices. We need to use matrices so we can do matrix multiplication (that's how machine learning works under the hood). In `numpy` speak, `X` is an `array` of `array`s.  If you want to see the actual vectors created, check out `X.toarray()` and you'll see it."
      ]
    },
    {
      "cell_type": "code",
      "execution_count": null,
      "metadata": {
        "id": "FiDREY9IyLNs",
        "outputId": "d5e912dd-c27c-428a-c92b-1ff6a43922b5"
      },
      "outputs": [
        {
          "data": {
            "text/plain": [
              "(10, 43)"
            ]
          },
          "execution_count": 14,
          "metadata": {},
          "output_type": "execute_result"
        }
      ],
      "source": [
        "X.shape"
      ]
    },
    {
      "cell_type": "markdown",
      "metadata": {
        "id": "HLaZsU0UyLNs"
      },
      "source": [
        "`X.shape` is useful to describe our data.\n",
        "\n",
        "`X.shape[0]` refers to the number of conversations from our `final_convos` list. So, `X.shape[0] == len(final_convos)` and `X.shape[0] == len(inputs)`\n",
        "\n",
        "\n",
        "`X.shape[1]` refers to the number of `words` our data has. The `CountVectorizer` did this for us. The Machine Learning term is `features` related to what our data has. You can see all of the `features` (`words` minus punctuation) with:"
      ]
    },
    {
      "cell_type": "code",
      "execution_count": null,
      "metadata": {
        "id": "Z7WSbDcTyLNs",
        "outputId": "2bfe9c04-c26b-4b08-80fa-bc7fe0de4720"
      },
      "outputs": [
        {
          "name": "stdout",
          "output_type": "stream",
          "text": [
            "['amazing', 'can', 'contact', 'dining', 'dinner', 'do', 'does', 'fixed', 'food', 'for', 'get', 'have', 'hi', 'how', 'incorrectly', 'is', 'kind', 'kitchen', 'late', 'lunch', 'manager', 'meats', 'my', 'of', 'open', 'order', 'prepared', 'products', 'room', 'speak', 'thank', 'the', 'there', 'this', 'time', 'to', 'tomorrow', 'type', 'was', 'what', 'when', 'you', 'your']\n"
          ]
        }
      ],
      "source": [
        "words = vectorizer.get_feature_names()\n",
        "print(words)"
      ]
    },
    {
      "cell_type": "markdown",
      "metadata": {
        "id": "IkxLgTFHyLNs"
      },
      "source": [
        "The vectorizer has a very limited vocabulary as you can see. Naturally, this means our ML project will *always* misunderstand some key conversations and that's okay. The goal for our project is to get it working first, get customers (or ourselves) using it so we can *improve* it with new data right away (and thus re-improve it)."
      ]
    },
    {
      "cell_type": "code",
      "execution_count": null,
      "metadata": {
        "id": "HArHiWZiyLNs",
        "outputId": "2d85dace-2385-4a64-e542-b4571870aa9b"
      },
      "outputs": [
        {
          "data": {
            "text/plain": [
              "43"
            ]
          },
          "execution_count": 16,
          "metadata": {},
          "output_type": "execute_result"
        }
      ],
      "source": [
        "len(words)"
      ]
    },
    {
      "cell_type": "markdown",
      "metadata": {
        "id": "9sR-G-tyyLNs"
      },
      "source": [
        "#### Prepare Outputs (`labels`)\n",
        "\n",
        "Every one of our inputs has a list of tags, not just one tag. Let's look at what I mean:\n"
      ]
    },
    {
      "cell_type": "code",
      "execution_count": null,
      "metadata": {
        "id": "ApPok2s3yLNt",
        "outputId": "85ef17df-eb71-4bb2-d424-b70e30cfc274"
      },
      "outputs": [
        {
          "name": "stdout",
          "output_type": "stream",
          "text": [
            "Hi there, what time do you open tomorrow for lunch? ['opening', 'closing', 'hours'] True\n"
          ]
        }
      ],
      "source": [
        "print(inputs[0], outputs[0], isinstance(outputs[0], list))"
      ]
    },
    {
      "cell_type": "markdown",
      "metadata": {
        "id": "s8I3fEvsyLNt"
      },
      "source": [
        "In machine learning, this means `multi-label` classification because there are multiple possible `output` values for each `input` value. This is a more challenging problem than a `single` label but definitely necessary for a chatbot project.\n",
        "\n",
        "A single label dataset would look like the following:\n",
        "```\n",
        "Input: Hi there, how are you doing today?\n",
        "Output: not_spam\n",
        "\n",
        "Input: Free CELL phones just text 3ED#2\n",
        "Output: spam\n",
        "```\n",
        "\n",
        "Notice that the output is a single `str` and not a `list` of `str` values. If we continued down this path, our data would *always* fall into 2 categories: `spam` or `not_spam`. This type of classification is called `binary` classification because there are only 2 possible classes for the prediction to be.\n",
        "\n",
        "\n",
        "In our project, our `input` values *can* fall into multiple `class` items, 1 `class`, or no `class` item at all. (Remember, `class` = `output tag` = `label`)"
      ]
    },
    {
      "cell_type": "code",
      "execution_count": null,
      "metadata": {
        "id": "u4vQDznsyLNt"
      },
      "outputs": [],
      "source": [
        "from sklearn.preprocessing import MultiLabelBinarizer\n",
        "\n",
        "mlb = MultiLabelBinarizer()\n",
        "\n",
        "y = mlb.fit_transform(outputs)"
      ]
    },
    {
      "cell_type": "markdown",
      "metadata": {
        "id": "g_EadNR6yLNt"
      },
      "source": [
        "You might consider running `fit_transform` on a `CountVectorizer` like we did with our training data (aka `inputs`) but that doesn't work on multi-label classification. For that, we need `MultiLabelBinarizer`."
      ]
    },
    {
      "cell_type": "code",
      "execution_count": null,
      "metadata": {
        "id": "8uM1o0G1yLNt",
        "outputId": "fd5f95f5-9a81-46cc-a817-011e5ea43770"
      },
      "outputs": [
        {
          "data": {
            "text/plain": [
              "array(['closing', 'contact', 'customer_support', 'feedback', 'food',\n",
              "       'hours', 'inventory', 'menu', 'opening', 'products'], dtype=object)"
            ]
          },
          "execution_count": 19,
          "metadata": {},
          "output_type": "execute_result"
        }
      ],
      "source": [
        "mlb.classes_"
      ]
    },
    {
      "cell_type": "markdown",
      "metadata": {
        "id": "cn3eGbCGyLNu"
      },
      "source": [
        "Calling `mlb.classes_` gives us the exact order of how our classes are defined in `y`. So `y[0]` corresponds to `outputs[0]` but in numbers instead of words. It's pretty cool. To see this technically, run the following code:\n",
        "\n",
        "```\n",
        "print(y[0])\n",
        "# map to classes with `zip`\n",
        "y0_mapped_to_classes = dict(zip(mlb.classes_, y[0]))\n",
        "print(y0_mapped_to_classes)\n",
        "```\n",
        "\n",
        "Then compare:\n",
        "```\n",
        "sorted(outputs[0]) == sorted([k for k,v in y0_mapped_to_classes.items() if v == 1])\n",
        "```\n"
      ]
    },
    {
      "cell_type": "code",
      "execution_count": null,
      "metadata": {
        "id": "0m98H9STyLNu",
        "outputId": "2aa3ae07-909c-4545-ae7b-5a9ea5329933"
      },
      "outputs": [
        {
          "data": {
            "text/plain": [
              "array([[1, 0, 0, 0, 0, 1, 0, 0, 1, 0],\n",
              "       [0, 0, 1, 0, 0, 0, 0, 0, 0, 0],\n",
              "       [0, 0, 1, 1, 0, 0, 0, 0, 0, 0],\n",
              "       [0, 0, 0, 0, 1, 0, 1, 1, 0, 1],\n",
              "       [1, 0, 0, 0, 0, 1, 0, 0, 1, 0],\n",
              "       [0, 0, 1, 0, 0, 0, 0, 0, 0, 0],\n",
              "       [0, 0, 0, 0, 1, 0, 1, 1, 0, 1],\n",
              "       [0, 0, 0, 0, 0, 1, 0, 0, 1, 0],\n",
              "       [1, 0, 0, 0, 0, 1, 0, 0, 1, 0],\n",
              "       [0, 1, 1, 0, 0, 0, 0, 0, 0, 0]])"
            ]
          },
          "execution_count": 20,
          "metadata": {},
          "output_type": "execute_result"
        }
      ],
      "source": [
        "y"
      ]
    },
    {
      "cell_type": "markdown",
      "metadata": {
        "id": "uvAKwz-TyLNu"
      },
      "source": [
        "Here we can see the matrix that is generated for us with sklearn's `MultiLabelBinarizer`. It's an array of one-hot arrays.\n",
        "\n",
        "> **one-hot** is a term that refers to the type of encoding we're using for this particular model. It's a very common practice in machine learning. Essentially turning data into `1`s and `0`s instead of strings or any other data type."
      ]
    },
    {
      "cell_type": "code",
      "execution_count": null,
      "metadata": {
        "id": "2hnowmMWyLNu",
        "outputId": "e876d541-172e-41f6-ab30-0d31e0a85c61"
      },
      "outputs": [
        {
          "data": {
            "text/plain": [
              "(10, 10)"
            ]
          },
          "execution_count": 21,
          "metadata": {},
          "output_type": "execute_result"
        }
      ],
      "source": [
        "y.shape"
      ]
    },
    {
      "cell_type": "markdown",
      "metadata": {
        "id": "SvcoFcZfyLNy"
      },
      "source": [
        "`y.shape` is useful to describe our data in a similar way to `X.shape`\n",
        "\n",
        "`y.shape[0]` refers to the number of conversations from our `final_convos` list. So, `y.shape[0] == len(final_convos)` and `y.shape[0] == len(outputs)` and `y.shape[0] == X.shape[0]`\n",
        "\n",
        "\n",
        "`y.shape[1]` refers to the unique values of all of the possible `tags` each conversation has; it will never repeat using the `MultiLabelBinarizer`."
      ]
    },
    {
      "cell_type": "code",
      "execution_count": null,
      "metadata": {
        "id": "TCV9P2uDyLNz"
      },
      "outputs": [],
      "source": [
        "assert y.shape[0] == X.shape[0]\n",
        "assert y.shape[0] == len(inputs)"
      ]
    },
    {
      "cell_type": "markdown",
      "metadata": {
        "id": "CMA44XZ-yLNz"
      },
      "source": [
        "If you see an `AssertionError` here, it's the same exact error as `assert len(inputs) == len(outputs)` from above. Your data is not balanced."
      ]
    },
    {
      "cell_type": "markdown",
      "metadata": {
        "id": "xAaznIgNyLNz"
      },
      "source": [
        "### Training with `scikit-lean`"
      ]
    },
    {
      "cell_type": "code",
      "execution_count": null,
      "metadata": {
        "id": "2D-HamEmyLNz"
      },
      "outputs": [],
      "source": [
        "from sklearn.multioutput import MultiOutputClassifier\n",
        "from sklearn.ensemble import RandomForestClassifier\n",
        "forest = RandomForestClassifier(random_state=1)\n",
        "model = MultiOutputClassifier(forest, n_jobs=-1)"
      ]
    },
    {
      "cell_type": "code",
      "execution_count": null,
      "metadata": {
        "id": "whtsyqmmyLNz",
        "outputId": "9d41155b-af3e-4e97-8dc7-755d7d5fa385"
      },
      "outputs": [
        {
          "data": {
            "text/plain": [
              "MultiOutputClassifier(estimator=RandomForestClassifier(random_state=1),\n",
              "                      n_jobs=-1)"
            ]
          },
          "execution_count": 24,
          "metadata": {},
          "output_type": "execute_result"
        }
      ],
      "source": [
        "model.fit(X, y)"
      ]
    },
    {
      "cell_type": "markdown",
      "metadata": {
        "id": "7cUSRO_dyLNz"
      },
      "source": [
        "### Prediction"
      ]
    },
    {
      "cell_type": "code",
      "execution_count": null,
      "metadata": {
        "id": "951CHduHyLNz",
        "outputId": "7766da97-d57f-425f-e9ef-1a33d8712eef"
      },
      "outputs": [
        {
          "data": {
            "text/plain": [
              "<1x43 sparse matrix of type '<class 'numpy.int64'>'\n",
              "\twith 4 stored elements in Compressed Sparse Row format>"
            ]
          },
          "execution_count": 25,
          "metadata": {},
          "output_type": "execute_result"
        }
      ],
      "source": [
        "txt = \"Hi, when do you close?\"\n",
        "input_vector = vectorizer.transform([txt])\n",
        "input_vector"
      ]
    },
    {
      "cell_type": "code",
      "execution_count": null,
      "metadata": {
        "id": "WEniJkV_yLNz",
        "outputId": "39a28ad7-358b-45f0-d690-0498b6f70d06"
      },
      "outputs": [
        {
          "name": "stdout",
          "output_type": "stream",
          "text": [
            "[[0 0 0 0 0 0 0 0 0 0]]\n"
          ]
        }
      ],
      "source": [
        "output_vector = model.predict(input_vector)\n",
        "print(output_vector)"
      ]
    },
    {
      "cell_type": "code",
      "execution_count": null,
      "metadata": {
        "id": "AA2XIuaByLN0"
      },
      "outputs": [],
      "source": [
        "preds = {}\n",
        "classes = mlb.classes_\n",
        "for i, val in enumerate(output_vector[0]):\n",
        "    preds[classes[i]] = val"
      ]
    },
    {
      "cell_type": "code",
      "execution_count": null,
      "metadata": {
        "id": "_b5QKanWyLN0",
        "outputId": "2e32b358-03d3-4f66-8ae1-d54b1ef632f7"
      },
      "outputs": [
        {
          "data": {
            "text/plain": [
              "{'closing': 0,\n",
              " 'contact': 0,\n",
              " 'customer_support': 0,\n",
              " 'feedback': 0,\n",
              " 'food': 0,\n",
              " 'hours': 0,\n",
              " 'inventory': 0,\n",
              " 'menu': 0,\n",
              " 'opening': 0,\n",
              " 'products': 0}"
            ]
          },
          "execution_count": 28,
          "metadata": {},
          "output_type": "execute_result"
        }
      ],
      "source": [
        "preds"
      ]
    },
    {
      "cell_type": "code",
      "execution_count": null,
      "metadata": {
        "id": "KgWVp5q-yLN0"
      },
      "outputs": [],
      "source": [
        "def label_predictor(txt='Hello world'):\n",
        "    # pred\n",
        "    input_vector = vectorizer.transform([txt])\n",
        "    output_vector = model.predict(input_vector)\n",
        "    preds = {}\n",
        "    classes = mlb.classes_\n",
        "    for i, val in enumerate(output_vector[0]):\n",
        "        preds[classes[i]] = val\n",
        "    return preds"
      ]
    },
    {
      "cell_type": "code",
      "execution_count": null,
      "metadata": {
        "id": "DgAAvELdyLN0",
        "outputId": "83899a4a-cecd-4789-c6bb-cb65ff65ee9f"
      },
      "outputs": [
        {
          "data": {
            "text/plain": [
              "{'closing': 0,\n",
              " 'contact': 0,\n",
              " 'customer_support': 0,\n",
              " 'feedback': 0,\n",
              " 'food': 0,\n",
              " 'hours': 0,\n",
              " 'inventory': 0,\n",
              " 'menu': 0,\n",
              " 'opening': 0,\n",
              " 'products': 0}"
            ]
          },
          "execution_count": 30,
          "metadata": {},
          "output_type": "execute_result"
        }
      ],
      "source": [
        "label_predictor()"
      ]
    },
    {
      "cell_type": "code",
      "execution_count": null,
      "metadata": {
        "id": "nd8spin9yLN0",
        "outputId": "f921cdc8-62d8-4363-b144-299a3e9d88b8"
      },
      "outputs": [
        {
          "data": {
            "text/plain": [
              "{'closing': 0,\n",
              " 'contact': 0,\n",
              " 'customer_support': 0,\n",
              " 'feedback': 0,\n",
              " 'food': 0,\n",
              " 'hours': 1,\n",
              " 'inventory': 0,\n",
              " 'menu': 0,\n",
              " 'opening': 1,\n",
              " 'products': 0}"
            ]
          },
          "execution_count": 31,
          "metadata": {},
          "output_type": "execute_result"
        }
      ],
      "source": [
        "label_predictor(\"When do you open?\")"
      ]
    },
    {
      "cell_type": "code",
      "execution_count": null,
      "metadata": {
        "id": "Kmla6D45yLN1",
        "outputId": "c698d3ed-b6f1-497a-e95d-91e237bd2123"
      },
      "outputs": [
        {
          "data": {
            "text/plain": [
              "{'closing': 0,\n",
              " 'contact': 0,\n",
              " 'customer_support': 0,\n",
              " 'feedback': 0,\n",
              " 'food': 0,\n",
              " 'hours': 0,\n",
              " 'inventory': 0,\n",
              " 'menu': 0,\n",
              " 'opening': 0,\n",
              " 'products': 0}"
            ]
          },
          "execution_count": 32,
          "metadata": {},
          "output_type": "execute_result"
        }
      ],
      "source": [
        "label_predictor(\"When are you opening tomorrow?\")"
      ]
    },
    {
      "cell_type": "markdown",
      "metadata": {
        "id": "61bnDbwIyLN2"
      },
      "source": [
        "### Export Model for Re-Use"
      ]
    },
    {
      "cell_type": "code",
      "execution_count": null,
      "metadata": {
        "id": "TaQI_oQYyLN2"
      },
      "outputs": [],
      "source": [
        "import pickle\n",
        "# classes\n",
        "# model\n",
        "# vectorizer\n",
        "\n",
        "model_data = {\n",
        "    \"classes\": list(mlb.classes_),\n",
        "    \"model\": model,\n",
        "    \"vectorizer\": vectorizer\n",
        "}\n",
        "\n",
        "with open(\"model.pkl\", 'wb') as f:\n",
        "    pickle.dump(model_data, f)"
      ]
    },
    {
      "cell_type": "markdown",
      "metadata": {
        "id": "by6UaynZyLN2"
      },
      "source": [
        "### Re-use Exported Model"
      ]
    },
    {
      "cell_type": "code",
      "execution_count": null,
      "metadata": {
        "id": "94_TJQ8uyLN2",
        "outputId": "624f084d-52c1-436a-e901-6033c3488ba4"
      },
      "outputs": [
        {
          "data": {
            "text/plain": [
              "{'closing': 0,\n",
              " 'contact': 0,\n",
              " 'customer_support': 0,\n",
              " 'feedback': 0,\n",
              " 'food': 0,\n",
              " 'hours': 1,\n",
              " 'inventory': 0,\n",
              " 'menu': 0,\n",
              " 'opening': 1,\n",
              " 'products': 0}"
            ]
          },
          "execution_count": 34,
          "metadata": {},
          "output_type": "execute_result"
        }
      ],
      "source": [
        "model_loaded_data = {}\n",
        "\n",
        "with open(\"model.pkl\", 'rb') as f:\n",
        "    model_loaded_data = pickle.loads(f.read())\n",
        "\n",
        "def label_predictor_from_export(txt='Hello world',\n",
        "                                vectorizer=None,\n",
        "                                model=None,\n",
        "                                classes=[],\n",
        "                                *args,\n",
        "                                **kwargs):\n",
        "    # pred\n",
        "    assert(vectorizer!=None)\n",
        "    assert(model != None)\n",
        "    input_vector = vectorizer.transform([txt])\n",
        "    output_vector = model.predict(input_vector)\n",
        "    assert(len(output_vector[0]) == len(classes))\n",
        "    preds = {}\n",
        "    classes = mlb.classes_\n",
        "    for i, val in enumerate(output_vector[0]):\n",
        "        preds[classes[i]] = val\n",
        "    return preds\n",
        "\n",
        "label_predictor_from_export(\"When does your kitchen close?\", **model_loaded_data)"
      ]
    },
    {
      "cell_type": "markdown",
      "metadata": {
        "id": "6yl_6Q6vyLN3"
      },
      "source": [
        "### Retraining with New Data"
      ]
    },
    {
      "cell_type": "code",
      "execution_count": null,
      "metadata": {
        "id": "zrGU5JJvyLN3"
      },
      "outputs": [],
      "source": [
        "from sklearn.feature_extraction.text import CountVectorizer\n",
        "from sklearn.preprocessing import MultiLabelBinarizer\n",
        "from sklearn.multioutput import MultiOutputClassifier\n",
        "from sklearn.ensemble import RandomForestClassifier\n",
        "\n",
        "def train(dataset, train_col='customer', label_col='tags', export_path='model.pkl'):\n",
        "    inputs = [x[train_col] for x in dataset]\n",
        "    outputs = [x[label_col] for x in dataset]\n",
        "    assert(len(inputs) == len(outputs))\n",
        "    vectorizer = CountVectorizer()\n",
        "    X = vectorizer.fit_transform(inputs)\n",
        "    mlb = MultiLabelBinarizer()\n",
        "    y = mlb.fit_transform(outputs)\n",
        "    classes = list(mlb.classes_)\n",
        "    forest = RandomForestClassifier(random_state=1)\n",
        "    model = MultiOutputClassifier(forest, n_jobs=-1)\n",
        "    model.fit(X, y)\n",
        "    model_data = {\n",
        "        \"classes\": list(mlb.classes_),\n",
        "        \"model\": model,\n",
        "        \"vectorizer\": vectorizer\n",
        "    }\n",
        "    with open(export_path, 'wb') as f:\n",
        "        pickle.dump(model_data, f)\n",
        "    return export_path"
      ]
    },
    {
      "cell_type": "code",
      "execution_count": null,
      "metadata": {
        "id": "wzrQfollyLN3"
      },
      "outputs": [],
      "source": [
        "# dataset"
      ]
    },
    {
      "cell_type": "code",
      "execution_count": null,
      "metadata": {
        "id": "R0osLvQYyLN3",
        "outputId": "575a6843-7bc8-4e20-b800-2a810d8ba856"
      },
      "outputs": [
        {
          "data": {
            "text/plain": [
              "'model2.pkl'"
            ]
          },
          "execution_count": 37,
          "metadata": {},
          "output_type": "execute_result"
        }
      ],
      "source": [
        "train(dataset, export_path='model2.pkl')"
      ]
    },
    {
      "cell_type": "code",
      "execution_count": null,
      "metadata": {
        "id": "6Qfd5AjJyLN4",
        "outputId": "cadb68d6-2d1b-41df-eefc-450bee0edc32"
      },
      "outputs": [
        {
          "data": {
            "text/plain": [
              "{'closing': 0,\n",
              " 'contact': 0,\n",
              " 'customer_support': 0,\n",
              " 'feedback': 0,\n",
              " 'food': 0,\n",
              " 'hours': 0,\n",
              " 'inventory': 0,\n",
              " 'menu': 0,\n",
              " 'opening': 0,\n",
              " 'products': 0}"
            ]
          },
          "execution_count": 38,
          "metadata": {},
          "output_type": "execute_result"
        }
      ],
      "source": [
        "model_loaded_data = {}\n",
        "\n",
        "with open(\"model2.pkl\", 'rb') as f:\n",
        "    model_loaded_data = pickle.loads(f.read())\n",
        "\n",
        "label_predictor_from_export(\"What is your favorite menu item?\", **model_loaded_data)"
      ]
    },
    {
      "cell_type": "markdown",
      "metadata": {
        "id": "Fahk81x-yLN4"
      },
      "source": [
        "### Store Dataset with Pandas"
      ]
    },
    {
      "cell_type": "code",
      "execution_count": null,
      "metadata": {
        "id": "QNCo-LlSyLN4",
        "outputId": "e4126b3a-e533-4cb3-8f69-8b5a8339e967"
      },
      "outputs": [
        {
          "name": "stdout",
          "output_type": "stream",
          "text": [
            "Requirement already satisfied: pandas in /Users/cfe/.local/share/virtualenvs/ml-hello-world-rt2goiiz/lib/python3.8/site-packages (1.0.5)\n",
            "Requirement already satisfied: numpy>=1.13.3 in /Users/cfe/.local/share/virtualenvs/ml-hello-world-rt2goiiz/lib/python3.8/site-packages (from pandas) (1.19.1)\n",
            "Requirement already satisfied: pytz>=2017.2 in /Users/cfe/.local/share/virtualenvs/ml-hello-world-rt2goiiz/lib/python3.8/site-packages (from pandas) (2020.1)\n",
            "Requirement already satisfied: python-dateutil>=2.6.1 in /Users/cfe/.local/share/virtualenvs/ml-hello-world-rt2goiiz/lib/python3.8/site-packages (from pandas) (2.8.1)\n",
            "Requirement already satisfied: six>=1.5 in /Users/cfe/.local/share/virtualenvs/ml-hello-world-rt2goiiz/lib/python3.8/site-packages (from python-dateutil>=2.6.1->pandas) (1.15.0)\n"
          ]
        }
      ],
      "source": [
        "!pip install pandas"
      ]
    },
    {
      "cell_type": "code",
      "execution_count": null,
      "metadata": {
        "id": "aWquw7SFyLN4"
      },
      "outputs": [],
      "source": [
        "import pandas as pd"
      ]
    },
    {
      "cell_type": "code",
      "execution_count": null,
      "metadata": {
        "id": "BfjU67OsyLN4",
        "outputId": "0698e60b-1035-4135-a435-b7a339691789"
      },
      "outputs": [
        {
          "data": {
            "text/html": [
              "<div>\n",
              "<style scoped>\n",
              "    .dataframe tbody tr th:only-of-type {\n",
              "        vertical-align: middle;\n",
              "    }\n",
              "\n",
              "    .dataframe tbody tr th {\n",
              "        vertical-align: top;\n",
              "    }\n",
              "\n",
              "    .dataframe thead th {\n",
              "        text-align: right;\n",
              "    }\n",
              "</style>\n",
              "<table border=\"1\" class=\"dataframe\">\n",
              "  <thead>\n",
              "    <tr style=\"text-align: right;\">\n",
              "      <th></th>\n",
              "      <th>customer</th>\n",
              "      <th>tags</th>\n",
              "    </tr>\n",
              "  </thead>\n",
              "  <tbody>\n",
              "    <tr>\n",
              "      <th>0</th>\n",
              "      <td>Hi there, what time do you open tomorrow for l...</td>\n",
              "      <td>[opening, closing, hours]</td>\n",
              "    </tr>\n",
              "    <tr>\n",
              "      <th>1</th>\n",
              "      <td>Can I speak to your manager?</td>\n",
              "      <td>[customer_support]</td>\n",
              "    </tr>\n",
              "    <tr>\n",
              "      <th>2</th>\n",
              "      <td>The food was amazing thank you!</td>\n",
              "      <td>[customer_support, feedback]</td>\n",
              "    </tr>\n",
              "    <tr>\n",
              "      <th>3</th>\n",
              "      <td>What type of products do you have?</td>\n",
              "      <td>[products, menu, inventory, food]</td>\n",
              "    </tr>\n",
              "    <tr>\n",
              "      <th>4</th>\n",
              "      <td>How late is your kitchen open?</td>\n",
              "      <td>[opening, hours, closing]</td>\n",
              "    </tr>\n",
              "    <tr>\n",
              "      <th>5</th>\n",
              "      <td>My order was prepared incorrectly, how can I g...</td>\n",
              "      <td>[customer_support]</td>\n",
              "    </tr>\n",
              "    <tr>\n",
              "      <th>6</th>\n",
              "      <td>What kind of meats do you have?</td>\n",
              "      <td>[menu, products, inventory, food]</td>\n",
              "    </tr>\n",
              "    <tr>\n",
              "      <th>7</th>\n",
              "      <td>When does your dining room open?</td>\n",
              "      <td>[opening, hours]</td>\n",
              "    </tr>\n",
              "    <tr>\n",
              "      <th>8</th>\n",
              "      <td>When do you open for dinner?</td>\n",
              "      <td>[opening, hours, closing]</td>\n",
              "    </tr>\n",
              "    <tr>\n",
              "      <th>9</th>\n",
              "      <td>How do I contact you?</td>\n",
              "      <td>[contact, customer_support]</td>\n",
              "    </tr>\n",
              "  </tbody>\n",
              "</table>\n",
              "</div>"
            ],
            "text/plain": [
              "                                            customer  \\\n",
              "0  Hi there, what time do you open tomorrow for l...   \n",
              "1                       Can I speak to your manager?   \n",
              "2                    The food was amazing thank you!   \n",
              "3                 What type of products do you have?   \n",
              "4                     How late is your kitchen open?   \n",
              "5  My order was prepared incorrectly, how can I g...   \n",
              "6                    What kind of meats do you have?   \n",
              "7                   When does your dining room open?   \n",
              "8                       When do you open for dinner?   \n",
              "9                              How do I contact you?   \n",
              "\n",
              "                                tags  \n",
              "0          [opening, closing, hours]  \n",
              "1                 [customer_support]  \n",
              "2       [customer_support, feedback]  \n",
              "3  [products, menu, inventory, food]  \n",
              "4          [opening, hours, closing]  \n",
              "5                 [customer_support]  \n",
              "6  [menu, products, inventory, food]  \n",
              "7                   [opening, hours]  \n",
              "8          [opening, hours, closing]  \n",
              "9        [contact, customer_support]  "
            ]
          },
          "execution_count": 41,
          "metadata": {},
          "output_type": "execute_result"
        }
      ],
      "source": [
        "df = pd.DataFrame(dataset)\n",
        "df.head(n=100)"
      ]
    },
    {
      "cell_type": "code",
      "execution_count": null,
      "metadata": {
        "id": "oPuKCCUPyLN4"
      },
      "outputs": [],
      "source": [
        "df.to_pickle(\"dataset.pkl\")"
      ]
    },
    {
      "cell_type": "code",
      "execution_count": null,
      "metadata": {
        "id": "9fNtgi0RyLN4"
      },
      "outputs": [],
      "source": [
        "# df = pd.read_pickle(\"dataset.pkl\")\n",
        "# og_df.head()"
      ]
    },
    {
      "cell_type": "code",
      "execution_count": null,
      "metadata": {
        "id": "4ytS-QevyLN4"
      },
      "outputs": [],
      "source": [
        "# og_df.iloc[0]['tags'][0]"
      ]
    },
    {
      "cell_type": "code",
      "execution_count": null,
      "metadata": {
        "id": "0nDWk9TxyLN4"
      },
      "outputs": [],
      "source": [
        "new_dataset = df.to_dict(\"records\")\n",
        "# print(new_dataset)"
      ]
    },
    {
      "cell_type": "markdown",
      "metadata": {
        "id": "JlwbTKlVyLN5"
      },
      "source": [
        "### Adding to the Dataset"
      ]
    },
    {
      "cell_type": "code",
      "execution_count": null,
      "metadata": {
        "id": "Q2PyZAbNyLN5"
      },
      "outputs": [],
      "source": [
        "# df = df.append({\"customer\": \"Who is the manager?\", \"tags\": [\"customer_support\"]}, ignore_index=True)"
      ]
    },
    {
      "cell_type": "code",
      "execution_count": null,
      "metadata": {
        "id": "b7_pfrkQyLN5"
      },
      "outputs": [],
      "source": [
        "# df.head(n=100)"
      ]
    },
    {
      "cell_type": "code",
      "execution_count": null,
      "metadata": {
        "id": "KecmWTf8yLN5"
      },
      "outputs": [],
      "source": [
        "def append_to_df(df):\n",
        "    df = df.copy()\n",
        "    while True:\n",
        "        customer_input = input(\"What is the question?\\n\")\n",
        "        tags_input = input(\"Tags? Use commas to separate\\n\")\n",
        "        if tags_input != None:\n",
        "            tags_input = tags_input.split(\",\")\n",
        "            if not isinstance(tags_input, list):\n",
        "                tags_input = [tags_input]\n",
        "        if customer_input != None and tags_input != None:\n",
        "            df = df.append({\"customer\": customer_input, \"tags\": tags_input}, ignore_index=True)\n",
        "        tag_another = input(\"Tag another? Type (y) to continue or any other key to exit.\")\n",
        "        if tag_another.lower() == \"y\":\n",
        "            continue\n",
        "        break\n",
        "    return df"
      ]
    },
    {
      "cell_type": "code",
      "execution_count": null,
      "metadata": {
        "id": "OcH_aRS1yLN5",
        "outputId": "41b457c8-161b-405b-e548-7c90d7f773fa"
      },
      "outputs": [
        {
          "name": "stdout",
          "output_type": "stream",
          "text": [
            "What is the question?\n",
            "Who is the manager?\n",
            "Tags? Use commas to separate\n",
            "customer_support\n",
            "Tag another? Type (y) to continue or any other key to exit.d\n"
          ]
        }
      ],
      "source": [
        "new_df = append_to_df(df)"
      ]
    },
    {
      "cell_type": "code",
      "execution_count": null,
      "metadata": {
        "id": "4m28_NVgyLN5",
        "outputId": "67a688e5-a34a-4609-e330-22639b87d459"
      },
      "outputs": [
        {
          "data": {
            "text/html": [
              "<div>\n",
              "<style scoped>\n",
              "    .dataframe tbody tr th:only-of-type {\n",
              "        vertical-align: middle;\n",
              "    }\n",
              "\n",
              "    .dataframe tbody tr th {\n",
              "        vertical-align: top;\n",
              "    }\n",
              "\n",
              "    .dataframe thead th {\n",
              "        text-align: right;\n",
              "    }\n",
              "</style>\n",
              "<table border=\"1\" class=\"dataframe\">\n",
              "  <thead>\n",
              "    <tr style=\"text-align: right;\">\n",
              "      <th></th>\n",
              "      <th>customer</th>\n",
              "      <th>tags</th>\n",
              "    </tr>\n",
              "  </thead>\n",
              "  <tbody>\n",
              "    <tr>\n",
              "      <th>0</th>\n",
              "      <td>Hi there, what time do you open tomorrow for l...</td>\n",
              "      <td>[opening, closing, hours]</td>\n",
              "    </tr>\n",
              "    <tr>\n",
              "      <th>1</th>\n",
              "      <td>Can I speak to your manager?</td>\n",
              "      <td>[customer_support]</td>\n",
              "    </tr>\n",
              "    <tr>\n",
              "      <th>2</th>\n",
              "      <td>The food was amazing thank you!</td>\n",
              "      <td>[customer_support, feedback]</td>\n",
              "    </tr>\n",
              "    <tr>\n",
              "      <th>3</th>\n",
              "      <td>What type of products do you have?</td>\n",
              "      <td>[products, menu, inventory, food]</td>\n",
              "    </tr>\n",
              "    <tr>\n",
              "      <th>4</th>\n",
              "      <td>How late is your kitchen open?</td>\n",
              "      <td>[opening, hours, closing]</td>\n",
              "    </tr>\n",
              "    <tr>\n",
              "      <th>5</th>\n",
              "      <td>My order was prepared incorrectly, how can I g...</td>\n",
              "      <td>[customer_support]</td>\n",
              "    </tr>\n",
              "    <tr>\n",
              "      <th>6</th>\n",
              "      <td>What kind of meats do you have?</td>\n",
              "      <td>[menu, products, inventory, food]</td>\n",
              "    </tr>\n",
              "    <tr>\n",
              "      <th>7</th>\n",
              "      <td>When does your dining room open?</td>\n",
              "      <td>[opening, hours]</td>\n",
              "    </tr>\n",
              "    <tr>\n",
              "      <th>8</th>\n",
              "      <td>When do you open for dinner?</td>\n",
              "      <td>[opening, hours, closing]</td>\n",
              "    </tr>\n",
              "    <tr>\n",
              "      <th>9</th>\n",
              "      <td>How do I contact you?</td>\n",
              "      <td>[contact, customer_support]</td>\n",
              "    </tr>\n",
              "    <tr>\n",
              "      <th>10</th>\n",
              "      <td>Who is the manager?</td>\n",
              "      <td>[customer_support]</td>\n",
              "    </tr>\n",
              "  </tbody>\n",
              "</table>\n",
              "</div>"
            ],
            "text/plain": [
              "                                             customer  \\\n",
              "0   Hi there, what time do you open tomorrow for l...   \n",
              "1                        Can I speak to your manager?   \n",
              "2                     The food was amazing thank you!   \n",
              "3                  What type of products do you have?   \n",
              "4                      How late is your kitchen open?   \n",
              "5   My order was prepared incorrectly, how can I g...   \n",
              "6                     What kind of meats do you have?   \n",
              "7                    When does your dining room open?   \n",
              "8                        When do you open for dinner?   \n",
              "9                               How do I contact you?   \n",
              "10                                Who is the manager?   \n",
              "\n",
              "                                 tags  \n",
              "0           [opening, closing, hours]  \n",
              "1                  [customer_support]  \n",
              "2        [customer_support, feedback]  \n",
              "3   [products, menu, inventory, food]  \n",
              "4           [opening, hours, closing]  \n",
              "5                  [customer_support]  \n",
              "6   [menu, products, inventory, food]  \n",
              "7                    [opening, hours]  \n",
              "8           [opening, hours, closing]  \n",
              "9         [contact, customer_support]  \n",
              "10                 [customer_support]  "
            ]
          },
          "execution_count": 50,
          "metadata": {},
          "output_type": "execute_result"
        }
      ],
      "source": [
        "new_df.head(n=100)"
      ]
    },
    {
      "cell_type": "code",
      "execution_count": null,
      "metadata": {
        "id": "-9vaASU3yLN6"
      },
      "outputs": [],
      "source": [
        "new_df.to_pickle(\"dataset.pkl\")"
      ]
    },
    {
      "cell_type": "markdown",
      "metadata": {
        "id": "UlacH9EWyLN6"
      },
      "source": [
        "### Creating a Rest API Model Service\n",
        "Using [fastapi](https://fastapi.tiangolo.com/)"
      ]
    },
    {
      "cell_type": "code",
      "execution_count": null,
      "metadata": {
        "id": "oWgSLa9gyLN6",
        "outputId": "b43b9c29-3740-49d3-fca4-a33f992f6a08"
      },
      "outputs": [
        {
          "name": "stdout",
          "output_type": "stream",
          "text": [
            "Requirement already satisfied: fastapi in /Users/cfe/.local/share/virtualenvs/ml-hello-world-rt2goiiz/lib/python3.8/site-packages (0.60.0)\n",
            "Requirement already satisfied: uvicorn in /Users/cfe/.local/share/virtualenvs/ml-hello-world-rt2goiiz/lib/python3.8/site-packages (0.11.6)\n",
            "Requirement already satisfied: requests in /Users/cfe/.local/share/virtualenvs/ml-hello-world-rt2goiiz/lib/python3.8/site-packages (2.24.0)\n",
            "Requirement already satisfied: pydantic<2.0.0,>=0.32.2 in /Users/cfe/.local/share/virtualenvs/ml-hello-world-rt2goiiz/lib/python3.8/site-packages (from fastapi) (1.6.1)\n",
            "Requirement already satisfied: starlette==0.13.4 in /Users/cfe/.local/share/virtualenvs/ml-hello-world-rt2goiiz/lib/python3.8/site-packages (from fastapi) (0.13.4)\n",
            "Requirement already satisfied: websockets==8.* in /Users/cfe/.local/share/virtualenvs/ml-hello-world-rt2goiiz/lib/python3.8/site-packages (from uvicorn) (8.1)\n",
            "Requirement already satisfied: uvloop>=0.14.0; sys_platform != \"win32\" and sys_platform != \"cygwin\" and platform_python_implementation != \"PyPy\" in /Users/cfe/.local/share/virtualenvs/ml-hello-world-rt2goiiz/lib/python3.8/site-packages (from uvicorn) (0.14.0)\n",
            "Requirement already satisfied: h11<0.10,>=0.8 in /Users/cfe/.local/share/virtualenvs/ml-hello-world-rt2goiiz/lib/python3.8/site-packages (from uvicorn) (0.9.0)\n",
            "Requirement already satisfied: httptools==0.1.*; sys_platform != \"win32\" and sys_platform != \"cygwin\" and platform_python_implementation != \"PyPy\" in /Users/cfe/.local/share/virtualenvs/ml-hello-world-rt2goiiz/lib/python3.8/site-packages (from uvicorn) (0.1.1)\n",
            "Requirement already satisfied: click==7.* in /Users/cfe/.local/share/virtualenvs/ml-hello-world-rt2goiiz/lib/python3.8/site-packages (from uvicorn) (7.1.2)\n",
            "Requirement already satisfied: chardet<4,>=3.0.2 in /Users/cfe/.local/share/virtualenvs/ml-hello-world-rt2goiiz/lib/python3.8/site-packages (from requests) (3.0.4)\n",
            "Requirement already satisfied: urllib3!=1.25.0,!=1.25.1,<1.26,>=1.21.1 in /Users/cfe/.local/share/virtualenvs/ml-hello-world-rt2goiiz/lib/python3.8/site-packages (from requests) (1.25.9)\n",
            "Requirement already satisfied: idna<3,>=2.5 in /Users/cfe/.local/share/virtualenvs/ml-hello-world-rt2goiiz/lib/python3.8/site-packages (from requests) (2.10)\n",
            "Requirement already satisfied: certifi>=2017.4.17 in /Users/cfe/.local/share/virtualenvs/ml-hello-world-rt2goiiz/lib/python3.8/site-packages (from requests) (2020.6.20)\n"
          ]
        }
      ],
      "source": [
        "!pip install fastapi uvicorn requests"
      ]
    },
    {
      "cell_type": "code",
      "execution_count": null,
      "metadata": {
        "id": "pxJhHGZDyLN6"
      },
      "outputs": [],
      "source": [
        "API_APP_PATH = 'app.py' # pathlib, os.path"
      ]
    },
    {
      "cell_type": "code",
      "execution_count": null,
      "metadata": {
        "id": "IsxKK_1IyLN6"
      },
      "outputs": [],
      "source": [
        "# from fastapi import FastAPI\n",
        "\n",
        "# app = FastAPI()\n",
        "\n",
        "# @app.get(\"/\")\n",
        "# def homepage_view():\n",
        "#     return {\"Hello\": \"World\"}"
      ]
    },
    {
      "cell_type": "code",
      "execution_count": null,
      "metadata": {
        "id": "t8rKMLv6yLN6",
        "outputId": "f23adfee-ffa7-481d-dd47-822d67033037"
      },
      "outputs": [
        {
          "name": "stdout",
          "output_type": "stream",
          "text": [
            "Overwriting app.py\n"
          ]
        }
      ],
      "source": [
        "%%writefile $API_APP_PATH\n",
        "\n",
        "import pickle\n",
        "from fastapi import FastAPI\n",
        "from pydantic import BaseModel\n",
        "\n",
        "app = FastAPI()\n",
        "\n",
        "model_data = {}\n",
        "\n",
        "with open(\"model.pkl\", 'rb') as f:\n",
        "    model_data = pickle.loads(f.read())\n",
        "\n",
        "\n",
        "class CustomerInput(BaseModel):\n",
        "    query:str\n",
        "\n",
        "def predict(txt='Hello world',\n",
        "                vectorizer=None,\n",
        "                model=None,\n",
        "                classes=[],\n",
        "                *args,\n",
        "                **kwargs):\n",
        "    # pred\n",
        "    assert(vectorizer!=None)\n",
        "    assert(model != None)\n",
        "    input_vector = vectorizer.transform([txt])\n",
        "    output_vector = model.predict(input_vector)\n",
        "    assert(len(output_vector[0]) == len(classes))\n",
        "    preds = {}\n",
        "    for i, val in enumerate(output_vector[0]):\n",
        "        preds[classes[i]] = int(val)\n",
        "    return preds\n",
        "\n",
        "@app.post(\"/predict\")\n",
        "def predict_view(customer_input:CustomerInput):\n",
        "    # storing this query data -> SQL database\n",
        "    my_pred = predict(customer_input.query, **model_data)\n",
        "    return {\"query\": customer_input.query, \"predictions\": my_pred}\n",
        "\n",
        "# @app.post('/train')"
      ]
    },
    {
      "cell_type": "code",
      "execution_count": null,
      "metadata": {
        "id": "Nf-V9BhvyLN7",
        "outputId": "6db7250d-482a-46a7-8cf4-4faa96d3f7ac"
      },
      "outputs": [
        {
          "name": "stdout",
          "output_type": "stream",
          "text": [
            "{'query': 'When do you open?', 'predictions': {'closing': 0, 'contact': 0, 'customer_support': 0, 'feedback': 0, 'food': 0, 'hours': 1, 'inventory': 0, 'menu': 0, 'opening': 1, 'products': 0}}\n"
          ]
        }
      ],
      "source": [
        "import requests\n",
        "\n",
        "json = {\n",
        "    \"query\": \"When do you open?\"\n",
        "}\n",
        "\n",
        "r = requests.post(\"http://127.0.0.1:8000/predict\", json=json)\n",
        "print(r.json())"
      ]
    },
    {
      "cell_type": "code",
      "execution_count": null,
      "metadata": {
        "id": "rZH1eVK8yLN7"
      },
      "outputs": [],
      "source": [
        "# label_predictor_from_export(\"When does your kitchen close?\", **model_loaded_data)"
      ]
    },
    {
      "cell_type": "markdown",
      "metadata": {
        "id": "4AHDc0iSyLN7"
      },
      "source": [
        "### Responses from Predictions"
      ]
    },
    {
      "cell_type": "code",
      "execution_count": null,
      "metadata": {
        "id": "6pz50LFnyLN7",
        "outputId": "f733910c-1838-490f-f957-d20ceef20c5a"
      },
      "outputs": [
        {
          "data": {
            "text/html": [
              "<div>\n",
              "<style scoped>\n",
              "    .dataframe tbody tr th:only-of-type {\n",
              "        vertical-align: middle;\n",
              "    }\n",
              "\n",
              "    .dataframe tbody tr th {\n",
              "        vertical-align: top;\n",
              "    }\n",
              "\n",
              "    .dataframe thead th {\n",
              "        text-align: right;\n",
              "    }\n",
              "</style>\n",
              "<table border=\"1\" class=\"dataframe\">\n",
              "  <thead>\n",
              "    <tr style=\"text-align: right;\">\n",
              "      <th></th>\n",
              "      <th>responses</th>\n",
              "      <th>tags</th>\n",
              "    </tr>\n",
              "  </thead>\n",
              "  <tbody>\n",
              "    <tr>\n",
              "      <th>0</th>\n",
              "      <td>[We open at 8am everyday, We are open from 8am...</td>\n",
              "      <td>[hours, opening]</td>\n",
              "    </tr>\n",
              "    <tr>\n",
              "      <th>1</th>\n",
              "      <td>[Tacos &amp; Burgers, Pizza]</td>\n",
              "      <td>[menu, food]</td>\n",
              "    </tr>\n",
              "  </tbody>\n",
              "</table>\n",
              "</div>"
            ],
            "text/plain": [
              "                                           responses              tags\n",
              "0  [We open at 8am everyday, We are open from 8am...  [hours, opening]\n",
              "1                           [Tacos & Burgers, Pizza]      [menu, food]"
            ]
          },
          "execution_count": 58,
          "metadata": {},
          "output_type": "execute_result"
        }
      ],
      "source": [
        "bot_responses = [\n",
        "    {\n",
        "        \"responses\": [\n",
        "            \"We open at 8am everyday\",\n",
        "            \"We are open from 8am to 10pm everyday\",\n",
        "            \"8am to 10pm everyday\"\n",
        "        ],\n",
        "        \"tags\": [\"hours\", 'opening']\n",
        "    },\n",
        "    {\n",
        "        \"responses\": [\n",
        "            \"Tacos & Burgers\",\n",
        "            \"Pizza\"\n",
        "        ],\n",
        "        \"tags\": [\"menu\", 'food']\n",
        "    }\n",
        "]\n",
        "\n",
        "bot_df = pd.DataFrame(bot_responses)\n",
        "bot_df.head(n=100)"
      ]
    },
    {
      "cell_type": "code",
      "execution_count": null,
      "metadata": {
        "id": "vS22esFDyLN8"
      },
      "outputs": [],
      "source": [
        "pred_response = {'query': 'When do you open?', 'predictions': {'closing': 0, 'contact': 0, 'customer_support': 0, 'feedback': 0, 'food': 0, 'hours': 1, 'inventory': 0, 'menu': 0, 'opening': 1, 'products': 0}}"
      ]
    },
    {
      "cell_type": "code",
      "execution_count": null,
      "metadata": {
        "id": "2dog3ztTyLN8",
        "outputId": "f9a48953-4dfc-4e0f-f3d8-26f0d84b065e"
      },
      "outputs": [
        {
          "data": {
            "text/plain": [
              "['hours', 'opening']"
            ]
          },
          "execution_count": 60,
          "metadata": {},
          "output_type": "execute_result"
        }
      ],
      "source": [
        "pred_tags = [k for k,v in pred_response['predictions'].items() if v != 0]\n",
        "pred_tags"
      ]
    },
    {
      "cell_type": "code",
      "execution_count": null,
      "metadata": {
        "id": "pGKoIjhWyLN8",
        "outputId": "8c71e2e1-a150-4e3a-8178-6c4063063028"
      },
      "outputs": [
        {
          "name": "stdout",
          "output_type": "stream",
          "text": [
            "0     True\n",
            "1    False\n",
            "Name: tags, dtype: bool\n"
          ]
        }
      ],
      "source": [
        "mask = bot_df.tags.apply(lambda x: set(pred_tags) == set(x))\n",
        "print(mask)"
      ]
    },
    {
      "cell_type": "code",
      "execution_count": null,
      "metadata": {
        "id": "F9vDULwYyLN8",
        "outputId": "209ef67a-509b-4676-df91-723b55d0692b"
      },
      "outputs": [
        {
          "data": {
            "text/html": [
              "<div>\n",
              "<style scoped>\n",
              "    .dataframe tbody tr th:only-of-type {\n",
              "        vertical-align: middle;\n",
              "    }\n",
              "\n",
              "    .dataframe tbody tr th {\n",
              "        vertical-align: top;\n",
              "    }\n",
              "\n",
              "    .dataframe thead th {\n",
              "        text-align: right;\n",
              "    }\n",
              "</style>\n",
              "<table border=\"1\" class=\"dataframe\">\n",
              "  <thead>\n",
              "    <tr style=\"text-align: right;\">\n",
              "      <th></th>\n",
              "      <th>responses</th>\n",
              "      <th>tags</th>\n",
              "    </tr>\n",
              "  </thead>\n",
              "  <tbody>\n",
              "    <tr>\n",
              "      <th>0</th>\n",
              "      <td>[We open at 8am everyday, We are open from 8am...</td>\n",
              "      <td>[hours, opening]</td>\n",
              "    </tr>\n",
              "  </tbody>\n",
              "</table>\n",
              "</div>"
            ],
            "text/plain": [
              "                                           responses              tags\n",
              "0  [We open at 8am everyday, We are open from 8am...  [hours, opening]"
            ]
          },
          "execution_count": 62,
          "metadata": {},
          "output_type": "execute_result"
        }
      ],
      "source": [
        "response_df = bot_df[mask] # bot_df[bot_df.tags.isin(\"abcs\")]\n",
        "response_df.head()"
      ]
    },
    {
      "cell_type": "code",
      "execution_count": null,
      "metadata": {
        "id": "fU9wQKxFyLN_",
        "outputId": "2f77eb32-38c5-4901-e583-bdbe0d017d9d"
      },
      "outputs": [
        {
          "name": "stdout",
          "output_type": "stream",
          "text": [
            "[['We open at 8am everyday', 'We are open from 8am to 10pm everyday', '8am to 10pm everyday']]\n"
          ]
        }
      ],
      "source": [
        "all_responses = list(response_df['responses'].values)\n",
        "print(all_responses)"
      ]
    },
    {
      "cell_type": "code",
      "execution_count": null,
      "metadata": {
        "id": "z2tocUMdyLOA",
        "outputId": "ed91e581-85e4-47c2-9c17-34392f366b24"
      },
      "outputs": [
        {
          "data": {
            "text/plain": [
              "['We are open from 8am to 10pm everyday',\n",
              " 'We open at 8am everyday',\n",
              " '8am to 10pm everyday']"
            ]
          },
          "execution_count": 64,
          "metadata": {},
          "output_type": "execute_result"
        }
      ],
      "source": [
        "responses = []\n",
        "for row in all_responses:\n",
        "    for r in row:\n",
        "        responses.append(r)\n",
        "\n",
        "responses = list(set(responses))\n",
        "\n",
        "responses"
      ]
    },
    {
      "cell_type": "code",
      "execution_count": null,
      "metadata": {
        "id": "JXYpPVxyyLOA"
      },
      "outputs": [],
      "source": [
        "import random\n",
        "\n",
        "def predict_and_respond(txt=None, bot_df=None):\n",
        "    if txt == None and bot_df is None:\n",
        "        return \"Sorry, I don't know what that means. Please contact us.\"\n",
        "    json = {\n",
        "        \"query\": txt\n",
        "    }\n",
        "    r = requests.post(\"http://127.0.0.1:8000/predict\", json=json)\n",
        "    if r.status_code not in range(200, 299):\n",
        "        # send a signal, logging\n",
        "        return \"Sorry, I am having trouble right now. Please try again later.\"\n",
        "    pred_response = r.json()\n",
        "    pred_tags = [k for k,v in pred_response['predictions'].items() if v != 0]\n",
        "    mask = bot_df.tags.apply(lambda x: set(pred_tags) == set(x))\n",
        "    response_df = bot_df[mask]\n",
        "    all_responses = list(response_df['responses'].values)\n",
        "    responses = []\n",
        "    for row in all_responses:\n",
        "        for r in row:\n",
        "            responses.append(r)\n",
        "    responses = list(set(responses))\n",
        "    if len(responses) == 0:\n",
        "        return \"Sorry, I am still learning. I don't understand what you said.\"\n",
        "    return random.choice(responses)"
      ]
    },
    {
      "cell_type": "code",
      "execution_count": null,
      "metadata": {
        "id": "M6_vRZhAyLOA",
        "outputId": "2b37a9e7-bab2-49c9-b51a-5028aaa3bdf7"
      },
      "outputs": [
        {
          "data": {
            "text/plain": [
              "\"Sorry, I am still learning. I don't understand what you said.\""
            ]
          },
          "execution_count": 66,
          "metadata": {},
          "output_type": "execute_result"
        }
      ],
      "source": [
        "predict_and_respond(\"Are you open at 9:30am tomorrow?\", bot_df=bot_df)"
      ]
    },
    {
      "cell_type": "markdown",
      "metadata": {
        "id": "yaJ8SBBvyLOA"
      },
      "source": [
        "### What's Next?\n",
        "\n",
        "1. Get more data, a lot more\n",
        "- Add more data right now. Keep adding data.\n",
        "- Refine the data, move tags, remove tags, upgrade.\n",
        "2. Deploy to a production server:\n",
        "- Ideally using [this project](https://www.codingforentrepreneurs.com/projects/serverless-container-python-app) for deploying a serverless application using FastAPI (like we did).\n",
        "3. Use internally, a lot.\n",
        "- If this tool becomes the go-to for finding answers about your business internally, it can become the same tool for external (customer facing) as well. When in doubt, give it to customers,"
      ]
    },
    {
      "cell_type": "code",
      "execution_count": null,
      "metadata": {
        "id": "lPJ3Iu3LyLOB"
      },
      "outputs": [],
      "source": []
    }
  ],
  "metadata": {
    "kernelspec": {
      "display_name": "Python 3",
      "language": "python",
      "name": "python3"
    },
    "language_info": {
      "codemirror_mode": {
        "name": "ipython",
        "version": 3
      },
      "file_extension": ".py",
      "mimetype": "text/x-python",
      "name": "python",
      "nbconvert_exporter": "python",
      "pygments_lexer": "ipython3",
      "version": "3.8.2"
    },
    "colab": {
      "provenance": []
    }
  },
  "nbformat": 4,
  "nbformat_minor": 0
}